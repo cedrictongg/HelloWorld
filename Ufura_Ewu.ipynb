{
 "cells": [
  {
   "cell_type": "markdown",
   "metadata": {},
   "source": [
    "# Table of Contents <a name='Top'></a>\n",
    "\n",
    "1. [Core Stats](#CoreStats)\n",
    "2. [Skills](#Skills)\n",
    "3. [Background](#Background)\n",
    "4. [Class](#Class)\n",
    "5. [Weapons](#Weapons)\n",
    "6. [Spellbook](#Spellbook)\n",
    "7. [Armor](#Armor)\n",
    "8. [Inventory](#Inventory)"
   ]
  },
  {
   "cell_type": "markdown",
   "metadata": {},
   "source": [
    "## Core Stats <a name='CoreStats'></a>\n",
    "[Back to the top](#Top)"
   ]
  },
  {
   "cell_type": "markdown",
   "metadata": {},
   "source": [
    "| Score \t|     \t| Mod \t| Save Prof? \t| Save Mod \t| \n",
    "|:-----:\t|:---:\t|:---:\t|:----------:\t|:--------:\t|\n",
    "|   18  \t| STR \t|  4  \t|            \t| 4        \t|\n",
    "|   14  \t| DEX \t|  2  \t|            \t| 2        \t|\n",
    "|   16  \t| CON \t|  3  \t|            \t| 3        \t|\n",
    "|   11  \t| INT \t|  0  \t|            \t| 0        \t|\n",
    "|   5   \t| WIS \t|  -3 \t|      x     \t| 0        \t|\n",
    "|   18  \t| CHA \t|  4  \t|      x     \t| 7        \t|"
   ]
  },
  {
   "cell_type": "markdown",
   "metadata": {},
   "source": [
    "|               |            | Hit Points and Speed |             |                   |\n",
    "|--------------:|-----------:|:--------------------:|-------------|-------------------|\n",
    "|       67      |     67     |                      |      0      |         30        |\n",
    "|    Current    |     Max    |                      |   Temp HP   |       Speed       |"
   ]
  },
  {
   "cell_type": "markdown",
   "metadata": {},
   "source": [
    "\n",
    "|               | Initiative |                      | Armor Class |                   |\n",
    "|--------------:|-----------:|:--------------------:|:------------:|:-------------------:|\n",
    "|       0       |      2     |                      |      20     |         14        |\n",
    "|     Bonus     |    Total   |                      |  With Armor |      No Armor     |"
   ]
  },
  {
   "cell_type": "markdown",
   "metadata": {},
   "source": [
    "|               |            | Level and Experience |            |                  |\n",
    "|--------------:|-----------:|:--------------------:|-------------|-------------------|\n",
    "|       7       |      3     |                      |      0      |         0         |\n",
    "| Overall Level | Prof Bonus |                      |  Current XP | XP for next level |"
   ]
  },
  {
   "cell_type": "markdown",
   "metadata": {},
   "source": [
    "|                          | Hit Dice |         |     |\n",
    "|:------------------------:|:--------:|:-------:|:---:|\n",
    "|          Classes         |  Hit Die | Current | Max |\n",
    "| Fighter, Paladin, Ranger |    d12   |    7    |  7  |"
   ]
  },
  {
   "cell_type": "markdown",
   "metadata": {},
   "source": [
    "## Skills <a name='Skills'></a>\n",
    "[Back to the top](#Top)"
   ]
  },
  {
   "cell_type": "markdown",
   "metadata": {},
   "source": [
    "|        Skill       | Proficient | Bonus | Total | Pass |   |       Skill      | Proficient | Bonus | Total | Pass |\n",
    "|:------------------:|:----------:|:-----:|:-----:|:----:|:-:|:----------------:|:----------:|:-----:|:-----:|:----:|\n",
    "|   Athletics (STR)  |     Yes    |   0   |   7   |  17  |   | Persuasion (CHA) |     Yes    |   0   |   7   |  17  |\n",
    "|   Deception (CHA)  |     Yes    |   0   |   7   |  17  |   |  Religion (INT)  |     Yes    |   0   |   3   |  13  |\n",
    "|    Insight (WIS)   |     Yes    |   0   |   0   |  10  |   |                  |            |       |       |      |\n",
    "| Intimidation (CHA) |     Yes    |   0   |   7   |  17  |   |                  |            |       |       |      |"
   ]
  },
  {
   "cell_type": "markdown",
   "metadata": {},
   "source": [
    "## Background <a name='Background'></a>\n",
    "[Back to the top](#Top)"
   ]
  },
  {
   "cell_type": "markdown",
   "metadata": {},
   "source": [
    "|            |     |                          | Appearance, Vision, Language, and Alignment |                |       |        |\n",
    "|:----------:|:---:|:------------------------:|:-------------------------------------------:|:--------------:|:-----:|:------:|\n",
    "|      M     |  57 |            6ft           |                     170                     |      Blue      | Black | Medium |\n",
    "|   Gender   | Age |          Height          |                    Weight                   |      Eyes      |  Hair |  Size  |\n",
    "| Darkvision |     | Common, Elvish, Draconic |                                             | Lawful Neutral |       |        |\n",
    "|   Vision   |     |      Known Languages     |                                             |    Alignment   |       |        |"
   ]
  },
  {
   "cell_type": "markdown",
   "metadata": {},
   "source": [
    "### Background, Traits, Ideals, Bonds and Flaws"
   ]
  },
  {
   "cell_type": "markdown",
   "metadata": {},
   "source": [
    "#### Background\n",
    "\n",
    "The paladin order crushed by Strahd and his legions, Ufura went into hiding and trained in the mountains against monstrosities he has never seen before. Honing his blade and mastery of the light, he became a fearsome combatant.\n",
    "\n",
    "Serving the morning lord, he gains power through the sun and cuts down his foes with his longsword. No matter who it may be, he will destroy everyone in his way. On a quest to annihilate his enemies, he will act as a weapon of vengeance against anyone who tries to threaten him or his allies."
   ]
  },
  {
   "cell_type": "markdown",
   "metadata": {},
   "source": [
    "#### Racial Traits\n",
    "\n",
    "Fey Ancestry. You have advantage on saving throws against being charmed, and magic can’t put you to sleep."
   ]
  },
  {
   "cell_type": "markdown",
   "metadata": {},
   "source": [
    "#### Personality Traits\n",
    "\n",
    "Stoic, unwavering, a man of a few words. Able to stare down a hell hound without flinching."
   ]
  },
  {
   "cell_type": "markdown",
   "metadata": {},
   "source": [
    "#### Ideals\n",
    "\n",
    "Faced with a choice of fighting my sworn foes or combating a lesser evil. I choose the greater evil.\n",
    "\n",
    "If my foes wreak ruin on the world, it is because I failed to stop them. I must help those harmed by their misdeeds.\n",
    "\n",
    "When people follow orders blindly, they\n",
    "embrace a kind of tyranny."
   ]
  },
  {
   "cell_type": "markdown",
   "metadata": {},
   "source": [
    "#### Bonds\n",
    "\n",
    "I’ll never forget the crushing defeat my company suffered or Strahd who dealt it."
   ]
  },
  {
   "cell_type": "markdown",
   "metadata": {},
   "source": [
    "#### Flaws\n",
    "\n",
    "I have little respect for anyone who is not a proven warrior. Looks to the morninglord for advice when things are bad."
   ]
  },
  {
   "cell_type": "markdown",
   "metadata": {},
   "source": [
    "### Equipment Proficiencies"
   ]
  },
  {
   "cell_type": "markdown",
   "metadata": {},
   "source": [
    "#### Armor Proficiencies\n",
    "\n",
    "All armor, shields\n",
    "\n",
    "#### Weapon Proficiencies\n",
    "\n",
    "Simple weapons, Martial weapons\n",
    "\n",
    "#### Tool Proficiences\n",
    "\n",
    "None"
   ]
  },
  {
   "cell_type": "markdown",
   "metadata": {},
   "source": [
    "#### Other notes"
   ]
  },
  {
   "cell_type": "markdown",
   "metadata": {},
   "source": []
  },
  {
   "cell_type": "markdown",
   "metadata": {},
   "source": [
    "### Class\n",
    "[Back to the top](#Top)"
   ]
  },
  {
   "cell_type": "markdown",
   "metadata": {},
   "source": [
    "#### Class Levels, Features, Notes and Feats\n",
    "\n",
    "Paladin: 7\n",
    "\n",
    "#### Class Feature notes\n",
    "\n",
    "##### Divine Sense\n",
    "As an action, you can open your awareness to detect such forces. Until the end of your next turn, you know the location of any Celestial, fiend, or Undead within 60 feet of you that is not behind total cover. You know the type (celestial, fiend, or undead) of any being whose presence you sense, but not its identity\n",
    "\n",
    "##### Lay on Hands\n",
    "You have a pool of Healing power that replenishes when you take a Long Rest. With that pool, you can restore a total number of Hit Points equal to your Paladin level x 5.\n",
    "As an action, you can touch a creature and draw power from the pool to restore a number of Hit Points to that creature, up to the maximum amount remaining in your pool.\n",
    "Alternatively, you can expend 5 Hit Points from your pool of Healing to cure the target of one disease or neutralize one poison affecting it. You can cure multiple Diseases and neutralize multiple Poisons with a single use of Lay on Hands, expending Hit Points separately for each one.\n",
    "\n",
    "##### Divine Health\n",
    "By 3rd level, the Divine Magic flowing through you makes you immune to disease.\n",
    "\n",
    "##### Channel Divinity\n",
    "[Jump to channel divinity options](#divinity)\n",
    "\n",
    "Your oath allows you to channel divine energy to fuel magical Effects. Each Channel Divinity option provided by your oath explains how to use it.\n",
    "\n",
    "When you use your Channel Divinity, you choose which option to use. You must then finish a short or Long Rest to use your Channel Divinity again.\n",
    "\n",
    "Some Channel Divinity Effects require Saving Throws. When you use such an effect from this class, the DC equals your Paladin spell save DC.\n",
    "\n",
    "##### Extra Attack\n",
    "Beginning at 5th level, you can Attack twice, instead of once, whenever you take the Attack action on Your Turn.\n",
    "\n",
    "##### Aura of Protection\n",
    "Starting at 6th level, whenever you or a friendly creature within 10 feet of you must make a saving throw, the creature gains a bonus to the saving throw equal to your Charisma modifier (with a minimum bonus of +1). You must be conscious to grant this bonus.\n",
    "\n",
    "11 spells currently known\n",
    "\n",
    "#### Other Class abilities, notes, and feats\n",
    "\n",
    "##### Dueling\n",
    "When you are wielding a melee weapon in one hand and no other Weapons, you gain a +2 bonus to Damage Rolls with that weapon.\n",
    "\n",
    "##### Divine Smite\n",
    "Starting at 2nd level, when you hit a creature with a melee weapon Attack, you can expend one spell slot to deal radiant damage to the target, in addition to the weapon's damage. The extra damage is 2d8 for a 1st-level spell slot, plus 1d8 for each Spell Level higher than 1st, to a maximum of 5d8. The damage increases by 1d8 if the target is an Undead or a fiend.\n",
    "\n",
    "Spell save DC = 8 + your Proficiency Bonus + your Charisma modifier\n",
    "Spell Attack modifier = your Proficiency Bonus + your Charisma modifier\n",
    "\n",
    "##### Relentless Avenger\n",
    "By 7th level, your supernatural focus helps you close off a foe’s retreat. When you hit a creature with an opportunity attack, you can move up to half your speed immediately after the attack and as part of the same reaction. This movement doesn’t provoke opportunity attacks."
   ]
  },
  {
   "cell_type": "markdown",
   "metadata": {},
   "source": [
    "#### Class Actions\n",
    "\n",
    "##### Abjure Enemy <a name='divinity'></a>\n",
    "As an action, you present your holy symbol and speak a prayer of denunciation, using your Channel Divinity. Choose one creature within 60 feet of you that you can see. That creature must make a Wisdom saving throw, unless it is immune to being frightened. Fiends and undead have disadvantage on this saving throw.\n",
    "\n",
    "On a failed save, the creature is frightened for 1 minute or until it takes any damage. While frightened, the creature’s speed is 0, and it can’t benefit from any bonus to its speed.\n",
    "\n",
    "On a successful save, the creature’s speed is halved for 1 minute or until the creature takes any damage.\n",
    "\n",
    "##### Vow of Enmity\n",
    "As an action, you present your holy symbol and speak a prayer o f denunciation, using your Channel Divinity. Choose one creature within 60 feet of you that you can see. That creature must make a Wisdom saving throw, unless it is immune to being frightened. Fiends and undead have disadvantage on this saving throw.\n",
    "\n",
    "On a failed save, the creature is frightened for 1 minute or until it takes any damage. While frightened, the creature’s speed is 0, and it can’t benefit from any bonus to its speed.\n",
    "\n",
    "On a successful save, the creature’s speed is halved for 1 minute or until the creature takes any damage."
   ]
  },
  {
   "cell_type": "markdown",
   "metadata": {},
   "source": [
    "## Weapons <a name='Weapons'></a>\n",
    "[Back to the top](#Top)"
   ]
  },
  {
   "cell_type": "markdown",
   "metadata": {},
   "source": [
    "#### Melee Weapons\n",
    "\n",
    "| Prof? | Weapon | Attack Stat | Magic Bonus | To Hit | Damage Dice | + stat? | Dmg Bonus | Damage Type | Crit DMG | Crit on a |\n",
    "|:-----:|:-------------------:|:-----------:|:-----------:|:------:|:-----------:|:-------:|:---------:|:-----------:|:--------:|:---------:|\n",
    "| x | Longsword | STR | 0 | 7 | 1d8 | x | 4 | Slashing | 1d8 | 20 |\n",
    "| x | Longsword (Dueling) | STR | 0 | 7 | 1d8+2 | x | 4 | Slashing | 1d8+2 | 20 |\n",
    "|  |  |  |  |  |  |  |  |  |  |  |"
   ]
  },
  {
   "cell_type": "markdown",
   "metadata": {},
   "source": [
    "#### Ranged Weapons\n",
    "\n",
    "5x Javelin, 1d6, +5 to hit, +2 damage bonus"
   ]
  },
  {
   "cell_type": "markdown",
   "metadata": {},
   "source": [
    "## Spellbook <a name='Spellbook'></a>\n",
    "[Back to the top](#Top)"
   ]
  },
  {
   "cell_type": "markdown",
   "metadata": {},
   "source": [
    "#### Preparing and Casting Spells\n",
    "\n",
    "The Paladin table shows how many Spell Slots you have to cast your Spells. To cast one of your Paladin Spells of 1st level or higher, you must expend a slot of the spell's level or higher. You regain all expended Spell Slots when you finish a Long Rest.\n",
    "\n",
    "You prepare the list of Paladin Spells that are available for you to cast, choosing from the Paladin spell list. When you do so, choose a number of Paladin Spells equal to your Charisma modifier + half your Paladin level, rounded down (minimum of one spell). The Spells must be of a level for which you have Spell Slots.\n",
    "\n",
    "For example, if you are a 5th-level Paladin, you have four 1st-level and two 2nd-level Spell Slots. With a Charisma of 14, your list of prepared Spells can include four Spells of 1st or 2nd level, in any combination. If you prepare the 1st-level spell Cure Wounds, you can cast it using a 1st-level or a 2nd-level slot. Casting the spell doesn't remove it from your list of prepared Spells.\n",
    "\n",
    "You can change your list of prepared Spells when you finish a Long Rest. Preparing a new list of Paladin Spells requires time spent in prayer and meditation: at least 1 minute per Spell Level for each spell on your list."
   ]
  },
  {
   "cell_type": "markdown",
   "metadata": {},
   "source": [
    "|  | Spell Slots |  |\n",
    "|:-----:|:-----------:|:---:|\n",
    "| Level | Used | Max |\n",
    "| 1 | 0 | 4 |\n",
    "| 2 | 0 | 3 |\n",
    "| 3 | 0 | 0 |\n",
    "| 4 | 0 | 0 |\n",
    "| 5 | 0 | 0 |"
   ]
  },
  {
   "cell_type": "markdown",
   "metadata": {},
   "source": [
    "### Save DC: 15\n",
    "\n",
    "### Level 1\n",
    "##### Bane (Prepared) \n",
    "Enchantment  \n",
    "Casting Time: 1 action  \n",
    "Range: 30 feet  \n",
    "Components: V S M (A drop of blood)  \n",
    "Duration: Concentration, Up to 1 minute  \n",
    "Classes: Bard, Cleric  \n",
    "Up to three creatures of your choice that you can see within range must make Charisma saving throws. Whenever a target that fails this saving throw makes an attack roll or a saving throw before the spell ends, the target must roll a d4 and subtract the number rolled from the attack roll or saving throw.\n",
    "At Higher Levels: When you cast this spell using a spell slot of 2nd level or higher, you can target one additional creature for each slot level above 1st.\n",
    "\n",
    "##### Hunter's Mark (Prepared)\n",
    "Divination  \n",
    "Casting Time: 1 bonus action  \n",
    "Range: 90 feet  \n",
    "Components: V  \n",
    "Duration: Concentration, Up to 1 hour  \n",
    "Classes: Ranger  \n",
    "You choose a creature you can see within range and mystically mark it as your quarry. Until the spell ends, you deal an extra 1d6 damage to the target whenever you hit it with a weapon attack, and you have advantage on any Wisdom (Perception) or Wisdom (Survival) check you make to find it. If the target drops to 0 hit points before this spell ends, you can use a bonus action on a subsequent turn of yours to mark a new creature.\n",
    "At Higher Levels: When you cast this spell using a spell slot of 3rd or 4th level, you can maintain your Concentration on the spell for up to 8 hours. When you use a spell slot of 5th level or higher, you can maintain your concentr⁠ation on the spell for up to 24 hours.\n",
    "\n",
    "##### Wrathful Smite\n",
    "Evocation  \n",
    "Casting time: 1 Bonus Action  \n",
    "Range: Self  \n",
    "Components: V  \n",
    "Duration: Concentration, up to 1 minute  \n",
    "The next time you hit with a melee weapon attack during this spell’s duration, your attack deals an extra 1d6 psychic damage.\n",
    "Additionally, if the target is a creature, it must make a Wisdom saving throw or be frightened of you until the spell ends. As an action, the creature can make a Wisdom check against your spell save DC to steel its resolve and end this spell.\n",
    "\n",
    "##### Divine Favor\n",
    "Evocation  \n",
    "Casting Time: 1 bonus action  \n",
    "Range: Self  \n",
    "Components: V S  \n",
    "Duration: Concentration, Up to 1 minute  \n",
    "Classes: Paladin  \n",
    "Your prayer empowers you with divine radiance. Until the spell ends, your weapon attacks deal an extra 1d4 radiant damage on a hit.\n",
    "\n",
    "##### Compelled Duel (Prepared)\n",
    "Enchantment  \n",
    "Casting time: 1 Bonus Action  \n",
    "Range: 30 feet  \n",
    "Components: V  \n",
    "Duration: Concentration, up to 1 minute  \n",
    "You attempt to compel a creature into a duel.  \n",
    "One creature that you can see within range must make a Wisdom saving throw. On a failed save, the creature is drawn to you, compelled by your divine demand. For the duration, it has disadvantage on attack rolls against creatures other than you, and must make a Wisdom saving throw each time it attempts to move to a space that is more than 30 feet away from you; if it succeeds on this saving throw, this spell doesn’t restrict the target’s movement for that turn.\n",
    "\n",
    "The spell ends if you attack any other creature, if you cast a spell that targets a hostile creature other than the target, if a creature friendly to you damages the target or casts a harmful spell on it, or if you end your turn more than 30 feet away from the target.\n",
    "\n",
    "##### Thunderous Smite\n",
    "Evocation  \n",
    "Casting time: 1 Bonus Action  \n",
    "Range: Self  \n",
    "Components: V  \n",
    "Duration: Concentration, up to 1 minute  \n",
    "The first time you hit with a melee weapon attack during this spell’s duration, your weapon rings with thunder that is audible within 300 feet of you, and the attack deals an extra 2d6 thunder damage to the target. Additionally, if the target is a creature, it must succeed on a Strength saving throw or be pushed 10 feet away from you and knocked prone. \n",
    "\n",
    "##### Bless (Prepared)\n",
    "Enchantment  \n",
    "Casting time: 1 Action  \n",
    "Range: 30 feet  \n",
    "Components: V, S, M (a sprinkling of holy water)  \n",
    "Duration: Concentration, up to 1 minute  \n",
    "You bless up to three creatures of your choice within range. Whenever a target makes an attack roll or a saving throw before the spell ends, the target can roll a d4 and add the number rolled to the attack roll or saving throw.\n",
    "\n",
    "At higher level\n",
    "When you cast this spell using a spell slot of 2nd level or higher, you can target one additional creature for each slot level above 1st.\n",
    "\n",
    "##### Shield of Faith\n",
    "Abjuration  \n",
    "Casting time: 1 Bonus Action  \n",
    "Range: 60 feet  \n",
    "Components: V, S, M (a small parchment with a bit of holy text written on it)  \n",
    "Duration: Concentration, up to 10 minutes  \n",
    "A shimmering field appears and surrounds a creature of your choice within range, granting it a +2 bonus to AC for the duration."
   ]
  },
  {
   "cell_type": "markdown",
   "metadata": {},
   "source": [
    "### Level 2\n",
    "\n",
    "##### Hold Person (Prepared)\n",
    "Enchantment  \n",
    "Casting time: 1 Action  \n",
    "Range: 60 feet  \n",
    "Components: V, S, M (a small, straight piece of iron)  \n",
    "Duration: Concentration, up to 1 minute  \n",
    "Choose a humanoid that you can see within range. The target must succeed on a Wisdom saving throw or be paralyzed for the duration. At the end of each of its turns, the target can make another Wisdom saving throw. On a success, the spell ends on the target.\n",
    "\n",
    "At higher level\n",
    "When you cast this spell using a spell slot of 3rd level or higher, you can target one additional humanoid for each slot level above 2nd. The humanoids must be within 30 feet of each other when you target them.\n",
    "\n",
    "##### Misty Step (Prepared)\n",
    "Conjuration  \n",
    "Casting time: 1 Bonus Action  \n",
    "Range: Self  \n",
    "Components: V  \n",
    "Duration: Instantaneous  \n",
    "Briefly surrounded by silvery mist, you teleport up to 30 feet to an unoccupied space that you can see.\n",
    "\n",
    "##### Lesser Restoration\n",
    "Abjuration  \n",
    "Casting time: 1 Action  \n",
    "Range: Touch  \n",
    "Components: V, S  \n",
    "Duration: Instantaneous  \n",
    "You touch a creature and can end either one disease or one condition afflicting it. The condition can be blinded, deafened, paralyzed, or poisoned.\n",
    "\n",
    "##### Aid (Prepared)\n",
    "Abjuration  \n",
    "Casting time: 1 Action  \n",
    "Range: 30 feet  \n",
    "Components: V, S, M (a tiny strip of white cloth)  \n",
    "Duration: 8 hours  \n",
    "Your spell bolsters your allies with toughness and resolve.  \n",
    "Choose up to three creatures within range. Each target’s hit point maximum and current hit points increase by 5 for the duration.\n",
    "\n",
    "At higher level\n",
    "When you cast this spell using a spell slot of 3rd level or higher, a target’s hit points increase by an additional 5 for each slot level above 2nd.\n",
    "\n",
    "##### Find Steed\n",
    "Conjuration  \n",
    "Casting time: 10 Minutes  \n",
    "Range: 30 feet  \n",
    "Components: V, S  \n",
    "Duration: Instantaneous  \n",
    "You summon a spirit that assumes the form of an unusually intelligent, strong, and loyal steed, creating a long-lasting bond with it. Appearing in an unoccupied space within range, the steed takes on a form that you choose, such as a warhorse, a pony, a camel, an elk, or a mastiff. (Your DM might allow other animals to be summoned as steeds.) The steed has the statistics of the chosen form, though it is a celestial, fey, or fiend (your choice) instead of its normal type. Additionally, if your steed has an Intelligence of 5 or less, its Intelligence becomes 6, and it gains the ability to understand one language of your choice that you speak.\n",
    "\n",
    "Your steed serves you as a mount, both in combat and out, and you have an instinctive bond with it that allows you to fight as a seamless unit. While mounted on your steed, you can make any spell you cast that targets only you also target your steed.\n",
    "\n",
    "When the steed drops to 0 hit points, it disappears, leaving behind no physical form. You can also dismiss your steed at any time as an action, causing it to disappear. In either case, casting this spell again summons the same steed, restored to its hit point maximum.\n",
    "\n",
    "While your steed is within 1 mile of you, you can communicate with it telepathically. You can’t have more than one steed bonded by this spell at a time. As an action, you can release the steed from its bond at any time, causing it to disappear."
   ]
  },
  {
   "cell_type": "markdown",
   "metadata": {},
   "source": [
    "## Armor <a name='Armor'></a>\n",
    "[Back to the top](#Top)"
   ]
  },
  {
   "cell_type": "markdown",
   "metadata": {},
   "source": [
    "Chain Mail, 16 AC, Heavy, Disadvantage to stealth  \n",
    "Shield, 2 AC, n/a, None"
   ]
  },
  {
   "cell_type": "markdown",
   "metadata": {},
   "source": [
    "## Inventory <a name='Inventory'></a>\n",
    "[Back to the top](#Top)"
   ]
  },
  {
   "cell_type": "markdown",
   "metadata": {},
   "source": []
  },
  {
   "cell_type": "markdown",
   "metadata": {},
   "source": []
  },
  {
   "cell_type": "markdown",
   "metadata": {},
   "source": []
  }
 ],
 "metadata": {
  "kernelspec": {
   "display_name": "Python 3",
   "language": "python",
   "name": "python3"
  },
  "language_info": {
   "codemirror_mode": {
    "name": "ipython",
    "version": 3
   },
   "file_extension": ".py",
   "mimetype": "text/x-python",
   "name": "python",
   "nbconvert_exporter": "python",
   "pygments_lexer": "ipython3",
   "version": "3.7.4"
  }
 },
 "nbformat": 4,
 "nbformat_minor": 4
}
